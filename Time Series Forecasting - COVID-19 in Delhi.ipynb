{
 "cells": [
  {
   "cell_type": "markdown",
   "metadata": {},
   "source": [
    "## Project: Time Series Forecasting :\n",
    "\n",
    "### Forecasting the sudden surge of COVID-19 cases in Delhi, India during the month of April, 2021 and testing out various forecasting methods to find out which forecast method is the most efficient."
   ]
  },
  {
   "cell_type": "code",
   "execution_count": 1,
   "metadata": {},
   "outputs": [],
   "source": [
    "import pandas as pd, numpy as np\n",
    "import matplotlib.pyplot as plt\n",
    "import warnings\n",
    "warnings.filterwarnings(\"ignore\")\n",
    "import seaborn as sns"
   ]
  },
  {
   "cell_type": "code",
   "execution_count": 2,
   "metadata": {},
   "outputs": [],
   "source": [
    "df = pd.read_excel(\"Delhi_covid.xlsx\")"
   ]
  },
  {
   "cell_type": "code",
   "execution_count": 3,
   "metadata": {},
   "outputs": [
    {
     "data": {
      "text/html": [
       "<div>\n",
       "<style scoped>\n",
       "    .dataframe tbody tr th:only-of-type {\n",
       "        vertical-align: middle;\n",
       "    }\n",
       "\n",
       "    .dataframe tbody tr th {\n",
       "        vertical-align: top;\n",
       "    }\n",
       "\n",
       "    .dataframe thead th {\n",
       "        text-align: right;\n",
       "    }\n",
       "</style>\n",
       "<table border=\"1\" class=\"dataframe\">\n",
       "  <thead>\n",
       "    <tr style=\"text-align: right;\">\n",
       "      <th></th>\n",
       "      <th>S.No</th>\n",
       "      <th>Date</th>\n",
       "      <th>Cured</th>\n",
       "      <th>Deaths</th>\n",
       "      <th>Confirmed</th>\n",
       "    </tr>\n",
       "  </thead>\n",
       "  <tbody>\n",
       "    <tr>\n",
       "      <th>0</th>\n",
       "      <td>1</td>\n",
       "      <td>2020-03-02</td>\n",
       "      <td>0</td>\n",
       "      <td>0</td>\n",
       "      <td>1</td>\n",
       "    </tr>\n",
       "    <tr>\n",
       "      <th>1</th>\n",
       "      <td>2</td>\n",
       "      <td>2020-03-03</td>\n",
       "      <td>0</td>\n",
       "      <td>0</td>\n",
       "      <td>1</td>\n",
       "    </tr>\n",
       "    <tr>\n",
       "      <th>2</th>\n",
       "      <td>3</td>\n",
       "      <td>2020-03-04</td>\n",
       "      <td>0</td>\n",
       "      <td>0</td>\n",
       "      <td>1</td>\n",
       "    </tr>\n",
       "    <tr>\n",
       "      <th>3</th>\n",
       "      <td>4</td>\n",
       "      <td>2020-03-05</td>\n",
       "      <td>0</td>\n",
       "      <td>0</td>\n",
       "      <td>2</td>\n",
       "    </tr>\n",
       "    <tr>\n",
       "      <th>4</th>\n",
       "      <td>5</td>\n",
       "      <td>2020-03-06</td>\n",
       "      <td>0</td>\n",
       "      <td>0</td>\n",
       "      <td>3</td>\n",
       "    </tr>\n",
       "  </tbody>\n",
       "</table>\n",
       "</div>"
      ],
      "text/plain": [
       "   S.No       Date  Cured  Deaths  Confirmed\n",
       "0     1 2020-03-02      0       0          1\n",
       "1     2 2020-03-03      0       0          1\n",
       "2     3 2020-03-04      0       0          1\n",
       "3     4 2020-03-05      0       0          2\n",
       "4     5 2020-03-06      0       0          3"
      ]
     },
     "execution_count": 3,
     "metadata": {},
     "output_type": "execute_result"
    }
   ],
   "source": [
    "df.head()"
   ]
  },
  {
   "cell_type": "code",
   "execution_count": 4,
   "metadata": {},
   "outputs": [],
   "source": [
    "df[\"Date\"] = pd.to_datetime(df[\"Date\"], format = \"%Y-%m-%d\")\n",
    "df = df.set_index(\"Date\")\n"
   ]
  },
  {
   "cell_type": "code",
   "execution_count": 5,
   "metadata": {},
   "outputs": [],
   "source": [
    "df.drop(\"S.No\", axis=1, inplace=True)"
   ]
  },
  {
   "cell_type": "code",
   "execution_count": 6,
   "metadata": {
    "scrolled": true
   },
   "outputs": [
    {
     "data": {
      "text/html": [
       "<div>\n",
       "<style scoped>\n",
       "    .dataframe tbody tr th:only-of-type {\n",
       "        vertical-align: middle;\n",
       "    }\n",
       "\n",
       "    .dataframe tbody tr th {\n",
       "        vertical-align: top;\n",
       "    }\n",
       "\n",
       "    .dataframe thead th {\n",
       "        text-align: right;\n",
       "    }\n",
       "</style>\n",
       "<table border=\"1\" class=\"dataframe\">\n",
       "  <thead>\n",
       "    <tr style=\"text-align: right;\">\n",
       "      <th></th>\n",
       "      <th>Cured</th>\n",
       "      <th>Deaths</th>\n",
       "      <th>Confirmed</th>\n",
       "    </tr>\n",
       "    <tr>\n",
       "      <th>Date</th>\n",
       "      <th></th>\n",
       "      <th></th>\n",
       "      <th></th>\n",
       "    </tr>\n",
       "  </thead>\n",
       "  <tbody>\n",
       "    <tr>\n",
       "      <th>2020-03-02</th>\n",
       "      <td>0</td>\n",
       "      <td>0</td>\n",
       "      <td>1</td>\n",
       "    </tr>\n",
       "    <tr>\n",
       "      <th>2020-03-03</th>\n",
       "      <td>0</td>\n",
       "      <td>0</td>\n",
       "      <td>1</td>\n",
       "    </tr>\n",
       "    <tr>\n",
       "      <th>2020-03-04</th>\n",
       "      <td>0</td>\n",
       "      <td>0</td>\n",
       "      <td>1</td>\n",
       "    </tr>\n",
       "    <tr>\n",
       "      <th>2020-03-05</th>\n",
       "      <td>0</td>\n",
       "      <td>0</td>\n",
       "      <td>2</td>\n",
       "    </tr>\n",
       "    <tr>\n",
       "      <th>2020-03-06</th>\n",
       "      <td>0</td>\n",
       "      <td>0</td>\n",
       "      <td>3</td>\n",
       "    </tr>\n",
       "  </tbody>\n",
       "</table>\n",
       "</div>"
      ],
      "text/plain": [
       "            Cured  Deaths  Confirmed\n",
       "Date                                \n",
       "2020-03-02      0       0          1\n",
       "2020-03-03      0       0          1\n",
       "2020-03-04      0       0          1\n",
       "2020-03-05      0       0          2\n",
       "2020-03-06      0       0          3"
      ]
     },
     "execution_count": 6,
     "metadata": {},
     "output_type": "execute_result"
    }
   ],
   "source": [
    "df.head()"
   ]
  },
  {
   "cell_type": "markdown",
   "metadata": {},
   "source": [
    "## Time Series Analysis"
   ]
  },
  {
   "cell_type": "code",
   "execution_count": 7,
   "metadata": {},
   "outputs": [
    {
     "data": {
      "image/png": "[encoded data removed]",
      "text/plain": [
       "<Figure size 1440x288 with 1 Axes>"
      ]
     },
     "metadata": {
      "needs_background": "light"
     },
     "output_type": "display_data"
    }
   ],
   "source": [
    "df.plot(figsize=(20,4))\n",
    "plt.legend(loc=\"best\")\n",
    "plt.title(\"Metrail Traffic Data\")\n",
    "plt.show(block=False)"
   ]
  },
  {
   "cell_type": "markdown",
   "metadata": {},
   "source": [
    "## Build and Evaluate Time Series Forecasting"
   ]
  },
  {
   "cell_type": "markdown",
   "metadata": {},
   "source": [
    "### Spliting Time Series into Train and Test Set"
   ]
  },
  {
   "cell_type": "code",
   "execution_count": 8,
   "metadata": {},
   "outputs": [],
   "source": [
    "train_len = 407\n",
    "train = df[0:train_len]\n",
    "test = df[train_len:]"
   ]
  },
  {
   "cell_type": "markdown",
   "metadata": {},
   "source": [
    "## Method 1: Naive Method"
   ]
  },
  {
   "cell_type": "code",
   "execution_count": 9,
   "metadata": {},
   "outputs": [],
   "source": [
    "y_hat_naive = test.copy()\n",
    "y_hat_naive[\"naive_forecast\"] = train[\"Confirmed\"][train_len-1]"
   ]
  },
  {
   "cell_type": "markdown",
   "metadata": {},
   "source": [
    "### Plot Train, Test and Forecast set"
   ]
  },
  {
   "cell_type": "code",
   "execution_count": 10,
   "metadata": {},
   "outputs": [
    {
     "data": {
      "image/png": "[encoded data removed]",
      "text/plain": [
       "<Figure size 1440x576 with 1 Axes>"
      ]
     },
     "metadata": {
      "needs_background": "light"
     },
     "output_type": "display_data"
    }
   ],
   "source": [
    "plt.figure(figsize=(20,8))\n",
    "plt.plot(train[\"Confirmed\"], label = \"Train\")\n",
    "plt.plot(test[\"Confirmed\"], label = \"Test\")\n",
    "plt.plot(y_hat_naive[\"naive_forecast\"], label = \"Naive Method\")\n",
    "plt.legend(loc=\"best\")\n",
    "plt.title(\"Naive Method\")\n",
    "plt.show()"
   ]
  },
  {
   "cell_type": "markdown",
   "metadata": {},
   "source": [
    "### Measuring RMSE and MAPE"
   ]
  },
  {
   "cell_type": "code",
   "execution_count": 11,
   "metadata": {},
   "outputs": [
    {
     "data": {
      "text/html": [
       "<div>\n",
       "<style scoped>\n",
       "    .dataframe tbody tr th:only-of-type {\n",
       "        vertical-align: middle;\n",
       "    }\n",
       "\n",
       "    .dataframe tbody tr th {\n",
       "        vertical-align: top;\n",
       "    }\n",
       "\n",
       "    .dataframe thead th {\n",
       "        text-align: right;\n",
       "    }\n",
       "</style>\n",
       "<table border=\"1\" class=\"dataframe\">\n",
       "  <thead>\n",
       "    <tr style=\"text-align: right;\">\n",
       "      <th></th>\n",
       "      <th>Method</th>\n",
       "      <th>RMSE</th>\n",
       "      <th>MAPE</th>\n",
       "    </tr>\n",
       "  </thead>\n",
       "  <tbody>\n",
       "    <tr>\n",
       "      <th>0</th>\n",
       "      <td>Naive Method</td>\n",
       "      <td>323990.23</td>\n",
       "      <td>25.42</td>\n",
       "    </tr>\n",
       "  </tbody>\n",
       "</table>\n",
       "</div>"
      ],
      "text/plain": [
       "         Method       RMSE   MAPE\n",
       "0  Naive Method  323990.23  25.42"
      ]
     },
     "execution_count": 11,
     "metadata": {},
     "output_type": "execute_result"
    }
   ],
   "source": [
    "from sklearn.metrics import mean_squared_error\n",
    "\n",
    "rmse = np.sqrt(mean_squared_error(test[\"Confirmed\"], y_hat_naive[\"naive_forecast\"])).round(2)\n",
    "mape = np.round(np.mean(np.abs(test[\"Confirmed\"] - y_hat_naive[\"naive_forecast\"])/test[\"Confirmed\"])*100,2)\n",
    "\n",
    "results = pd.DataFrame({\"Method\":[\"Naive Method\"], \"RMSE\":[rmse], \"MAPE\": [mape]})\n",
    "results = results[[\"Method\", \"RMSE\", \"MAPE\"]]\n",
    "results"
   ]
  },
  {
   "cell_type": "markdown",
   "metadata": {},
   "source": [
    "## Method 2: Simple Average Method"
   ]
  },
  {
   "cell_type": "code",
   "execution_count": 12,
   "metadata": {},
   "outputs": [],
   "source": [
    "y_hat_avg = test.copy()\n",
    "y_hat_avg[\"avg_forecast\"] = train[\"Confirmed\"].mean()"
   ]
  },
  {
   "cell_type": "markdown",
   "metadata": {},
   "source": [
    "### Plot Train, Test and Forecast Method"
   ]
  },
  {
   "cell_type": "code",
   "execution_count": 13,
   "metadata": {},
   "outputs": [
    {
     "data": {
      "image/png": "[encoded data removed]",
      "text/plain": [
       "<Figure size 1440x576 with 1 Axes>"
      ]
     },
     "metadata": {
      "needs_background": "light"
     },
     "output_type": "display_data"
    }
   ],
   "source": [
    "plt.figure(figsize=(20,8))\n",
    "plt.plot(train[\"Confirmed\"], label = \"Train\")\n",
    "plt.plot(test[\"Confirmed\"], label = \"Test\")\n",
    "plt.plot(y_hat_avg[\"avg_forecast\"], label = \"Simple Average Forecast\")\n",
    "plt.legend(loc=\"best\")\n",
    "plt.title(\"Simple Average Method\")\n",
    "plt.show()"
   ]
  },
  {
   "cell_type": "markdown",
   "metadata": {},
   "source": [
    "### Measuring RMSE and MAPE"
   ]
  },
  {
   "cell_type": "code",
   "execution_count": 14,
   "metadata": {},
   "outputs": [
    {
     "data": {
      "text/html": [
       "<div>\n",
       "<style scoped>\n",
       "    .dataframe tbody tr th:only-of-type {\n",
       "        vertical-align: middle;\n",
       "    }\n",
       "\n",
       "    .dataframe tbody tr th {\n",
       "        vertical-align: top;\n",
       "    }\n",
       "\n",
       "    .dataframe thead th {\n",
       "        text-align: right;\n",
       "    }\n",
       "</style>\n",
       "<table border=\"1\" class=\"dataframe\">\n",
       "  <thead>\n",
       "    <tr style=\"text-align: right;\">\n",
       "      <th></th>\n",
       "      <th>Method</th>\n",
       "      <th>RMSE</th>\n",
       "      <th>MAPE</th>\n",
       "    </tr>\n",
       "  </thead>\n",
       "  <tbody>\n",
       "    <tr>\n",
       "      <th>0</th>\n",
       "      <td>Naive Method</td>\n",
       "      <td>323990.23</td>\n",
       "      <td>25.42</td>\n",
       "    </tr>\n",
       "    <tr>\n",
       "      <th>0</th>\n",
       "      <td>Simple Average Method</td>\n",
       "      <td>713185.53</td>\n",
       "      <td>68.25</td>\n",
       "    </tr>\n",
       "  </tbody>\n",
       "</table>\n",
       "</div>"
      ],
      "text/plain": [
       "                  Method       RMSE   MAPE\n",
       "0           Naive Method  323990.23  25.42\n",
       "0  Simple Average Method  713185.53  68.25"
      ]
     },
     "execution_count": 14,
     "metadata": {},
     "output_type": "execute_result"
    }
   ],
   "source": [
    "from sklearn.metrics import mean_squared_error\n",
    "rmse = np.sqrt(mean_squared_error(test[\"Confirmed\"], y_hat_avg[\"avg_forecast\"])).round(2)\n",
    "mape = np.round(np.mean(np.abs(test[\"Confirmed\"] - y_hat_avg[\"avg_forecast\"])/test[\"Confirmed\"])*100, 2)\n",
    "\n",
    "tempResults = pd.DataFrame({\"Method\":\"Simple Average Method\", \"RMSE\":[rmse], \"MAPE\": [mape]})\n",
    "\n",
    "results = pd.concat([results, tempResults])\n",
    "results"
   ]
  },
  {
   "cell_type": "markdown",
   "metadata": {},
   "source": [
    "## Method 3(a): Simple Moving Average - 12 Months Window"
   ]
  },
  {
   "cell_type": "code",
   "execution_count": 15,
   "metadata": {},
   "outputs": [],
   "source": [
    "y_hat_sma = df.copy()\n",
    "ma_window = 12\n",
    "y_hat_sma[\"sma_forecast\"] = df[\"Confirmed\"].rolling(ma_window).mean()\n",
    "y_hat_sma[\"sma_forecast\"][train_len:] = y_hat_sma[\"sma_forecast\"][train_len-1]"
   ]
  },
  {
   "cell_type": "markdown",
   "metadata": {},
   "source": [
    "### Plot Train, Test and Forecast Set"
   ]
  },
  {
   "cell_type": "code",
   "execution_count": 16,
   "metadata": {},
   "outputs": [
    {
     "data": {
      "image/png": "[encoded data removed]",
      "text/plain": [
       "<Figure size 1440x288 with 1 Axes>"
      ]
     },
     "metadata": {
      "needs_background": "light"
     },
     "output_type": "display_data"
    }
   ],
   "source": [
    "plt.figure(figsize=(20,4))\n",
    "plt.plot(train[\"Confirmed\"], label = \"Train\")\n",
    "plt.plot(test[\"Confirmed\"], label = \"Test\")\n",
    "plt.plot(y_hat_sma[\"sma_forecast\"], label = \"Simple moving average method (12 Months)\")\n",
    "plt.legend(loc=\"best\")\n",
    "plt.title(\"Simple Moving Average Method (12 Months)\")\n",
    "plt.show()"
   ]
  },
  {
   "cell_type": "markdown",
   "metadata": {},
   "source": [
    "### Measuring RMSE and MAPE"
   ]
  },
  {
   "cell_type": "code",
   "execution_count": 17,
   "metadata": {},
   "outputs": [
    {
     "data": {
      "text/html": [
       "<div>\n",
       "<style scoped>\n",
       "    .dataframe tbody tr th:only-of-type {\n",
       "        vertical-align: middle;\n",
       "    }\n",
       "\n",
       "    .dataframe tbody tr th {\n",
       "        vertical-align: top;\n",
       "    }\n",
       "\n",
       "    .dataframe thead th {\n",
       "        text-align: right;\n",
       "    }\n",
       "</style>\n",
       "<table border=\"1\" class=\"dataframe\">\n",
       "  <thead>\n",
       "    <tr style=\"text-align: right;\">\n",
       "      <th></th>\n",
       "      <th>Method</th>\n",
       "      <th>RMSE</th>\n",
       "      <th>MAPE</th>\n",
       "    </tr>\n",
       "  </thead>\n",
       "  <tbody>\n",
       "    <tr>\n",
       "      <th>0</th>\n",
       "      <td>Naive Method</td>\n",
       "      <td>323990.23</td>\n",
       "      <td>25.42</td>\n",
       "    </tr>\n",
       "    <tr>\n",
       "      <th>0</th>\n",
       "      <td>Simple Average Method</td>\n",
       "      <td>713185.53</td>\n",
       "      <td>68.25</td>\n",
       "    </tr>\n",
       "    <tr>\n",
       "      <th>0</th>\n",
       "      <td>Simple Average Moving Method_12 Months</td>\n",
       "      <td>357050.83</td>\n",
       "      <td>29.34</td>\n",
       "    </tr>\n",
       "  </tbody>\n",
       "</table>\n",
       "</div>"
      ],
      "text/plain": [
       "                                   Method       RMSE   MAPE\n",
       "0                            Naive Method  323990.23  25.42\n",
       "0                   Simple Average Method  713185.53  68.25\n",
       "0  Simple Average Moving Method_12 Months  357050.83  29.34"
      ]
     },
     "execution_count": 17,
     "metadata": {},
     "output_type": "execute_result"
    }
   ],
   "source": [
    "rmse = np.sqrt(mean_squared_error(test[\"Confirmed\"], y_hat_sma[\"sma_forecast\"][train_len:])).round(2)\n",
    "mape = np.round(np.mean(np.abs(test[\"Confirmed\"] - y_hat_sma[\"sma_forecast\"][train_len:])/test[\"Confirmed\"])*100,2)\n",
    "\n",
    "tempResults = pd.DataFrame({\"Method\":[\"Simple Average Moving Method_12 Months\"], \"RMSE\":[rmse], \"MAPE\": [mape]})\n",
    "\n",
    "results = pd.concat([results, tempResults])\n",
    "results"
   ]
  },
  {
   "cell_type": "markdown",
   "metadata": {},
   "source": [
    "## Method 3(b): Simple Moving Average - 6 Months Window"
   ]
  },
  {
   "cell_type": "code",
   "execution_count": 18,
   "metadata": {},
   "outputs": [],
   "source": [
    "y_hat_sma = df.copy()\n",
    "ma_window = 6\n",
    "y_hat_sma[\"sma_forecast\"] = df[\"Confirmed\"].rolling(ma_window).mean()\n",
    "y_hat_sma[\"sma_forecast\"][train_len:] = y_hat_sma[\"sma_forecast\"][train_len-1]"
   ]
  },
  {
   "cell_type": "markdown",
   "metadata": {},
   "source": [
    "### Plot Train, Test and Forecast Set"
   ]
  },
  {
   "cell_type": "code",
   "execution_count": 19,
   "metadata": {},
   "outputs": [
    {
     "data": {
      "image/png": "[encoded data removed]",
      "text/plain": [
       "<Figure size 1440x288 with 1 Axes>"
      ]
     },
     "metadata": {
      "needs_background": "light"
     },
     "output_type": "display_data"
    }
   ],
   "source": [
    "plt.figure(figsize=(20,4))\n",
    "plt.plot(train[\"Confirmed\"], label = \"Train\")\n",
    "plt.plot(test[\"Confirmed\"], label = \"Test\")\n",
    "plt.plot(y_hat_sma[\"sma_forecast\"], label = \"Simple moving average method (06 Months)\")\n",
    "plt.legend(loc=\"best\")\n",
    "plt.title(\"Simple Moving Average Method (06 Months)\")\n",
    "plt.show()"
   ]
  },
  {
   "cell_type": "markdown",
   "metadata": {},
   "source": [
    "### Measuring RMSE and MAPE"
   ]
  },
  {
   "cell_type": "code",
   "execution_count": 20,
   "metadata": {},
   "outputs": [
    {
     "data": {
      "text/html": [
       "<div>\n",
       "<style scoped>\n",
       "    .dataframe tbody tr th:only-of-type {\n",
       "        vertical-align: middle;\n",
       "    }\n",
       "\n",
       "    .dataframe tbody tr th {\n",
       "        vertical-align: top;\n",
       "    }\n",
       "\n",
       "    .dataframe thead th {\n",
       "        text-align: right;\n",
       "    }\n",
       "</style>\n",
       "<table border=\"1\" class=\"dataframe\">\n",
       "  <thead>\n",
       "    <tr style=\"text-align: right;\">\n",
       "      <th></th>\n",
       "      <th>Method</th>\n",
       "      <th>RMSE</th>\n",
       "      <th>MAPE</th>\n",
       "    </tr>\n",
       "  </thead>\n",
       "  <tbody>\n",
       "    <tr>\n",
       "      <th>0</th>\n",
       "      <td>Naive Method</td>\n",
       "      <td>323990.23</td>\n",
       "      <td>25.42</td>\n",
       "    </tr>\n",
       "    <tr>\n",
       "      <th>0</th>\n",
       "      <td>Simple Average Method</td>\n",
       "      <td>713185.53</td>\n",
       "      <td>68.25</td>\n",
       "    </tr>\n",
       "    <tr>\n",
       "      <th>0</th>\n",
       "      <td>Simple Average Moving Method_12 Months</td>\n",
       "      <td>357050.83</td>\n",
       "      <td>29.34</td>\n",
       "    </tr>\n",
       "    <tr>\n",
       "      <th>0</th>\n",
       "      <td>Simple Average Moving Method_06 Months</td>\n",
       "      <td>342858.81</td>\n",
       "      <td>27.67</td>\n",
       "    </tr>\n",
       "  </tbody>\n",
       "</table>\n",
       "</div>"
      ],
      "text/plain": [
       "                                   Method       RMSE   MAPE\n",
       "0                            Naive Method  323990.23  25.42\n",
       "0                   Simple Average Method  713185.53  68.25\n",
       "0  Simple Average Moving Method_12 Months  357050.83  29.34\n",
       "0  Simple Average Moving Method_06 Months  342858.81  27.67"
      ]
     },
     "execution_count": 20,
     "metadata": {},
     "output_type": "execute_result"
    }
   ],
   "source": [
    "rmse = np.sqrt(mean_squared_error(test[\"Confirmed\"], y_hat_sma[\"sma_forecast\"][train_len:])).round(2)\n",
    "mape = np.round(np.mean(np.abs(test[\"Confirmed\"] - y_hat_sma[\"sma_forecast\"][train_len:])/test[\"Confirmed\"])*100,2)\n",
    "\n",
    "tempResults = pd.DataFrame({\"Method\":[\"Simple Average Moving Method_06 Months\"], \"RMSE\":[rmse], \"MAPE\": [mape]})\n",
    "\n",
    "results = pd.concat([results, tempResults])\n",
    "results"
   ]
  },
  {
   "cell_type": "markdown",
   "metadata": {},
   "source": [
    "## Method 3(c): Simple Moving Average - 3 Months Window"
   ]
  },
  {
   "cell_type": "code",
   "execution_count": 21,
   "metadata": {},
   "outputs": [],
   "source": [
    "y_hat_sma = df.copy()\n",
    "ma_window = 3\n",
    "y_hat_sma[\"sma_forecast\"] = df[\"Confirmed\"].rolling(ma_window).mean()\n",
    "y_hat_sma[\"sma_forecast\"][train_len:] = y_hat_sma[\"sma_forecast\"][train_len-1]"
   ]
  },
  {
   "cell_type": "markdown",
   "metadata": {},
   "source": [
    "### Plot Train, Test and Forecast Set"
   ]
  },
  {
   "cell_type": "code",
   "execution_count": 22,
   "metadata": {},
   "outputs": [
    {
     "data": {
      "image/png": "[encoded data removed]",
      "text/plain": [
       "<Figure size 1440x288 with 1 Axes>"
      ]
     },
     "metadata": {
      "needs_background": "light"
     },
     "output_type": "display_data"
    }
   ],
   "source": [
    "plt.figure(figsize=(20,4))\n",
    "plt.plot(train[\"Confirmed\"], label = \"Train\")\n",
    "plt.plot(test[\"Confirmed\"], label = \"Test\")\n",
    "plt.plot(y_hat_sma[\"sma_forecast\"], label = \"Simple moving average method (03 Months)\")\n",
    "plt.legend(loc=\"best\")\n",
    "plt.title(\"Simple Moving Average Method (03 Months)\")\n",
    "plt.show()"
   ]
  },
  {
   "cell_type": "markdown",
   "metadata": {},
   "source": [
    "### Measuring RMSE and MAPE"
   ]
  },
  {
   "cell_type": "code",
   "execution_count": 23,
   "metadata": {},
   "outputs": [
    {
     "data": {
      "text/html": [
       "<div>\n",
       "<style scoped>\n",
       "    .dataframe tbody tr th:only-of-type {\n",
       "        vertical-align: middle;\n",
       "    }\n",
       "\n",
       "    .dataframe tbody tr th {\n",
       "        vertical-align: top;\n",
       "    }\n",
       "\n",
       "    .dataframe thead th {\n",
       "        text-align: right;\n",
       "    }\n",
       "</style>\n",
       "<table border=\"1\" class=\"dataframe\">\n",
       "  <thead>\n",
       "    <tr style=\"text-align: right;\">\n",
       "      <th></th>\n",
       "      <th>Method</th>\n",
       "      <th>RMSE</th>\n",
       "      <th>MAPE</th>\n",
       "    </tr>\n",
       "  </thead>\n",
       "  <tbody>\n",
       "    <tr>\n",
       "      <th>0</th>\n",
       "      <td>Naive Method</td>\n",
       "      <td>323990.23</td>\n",
       "      <td>25.42</td>\n",
       "    </tr>\n",
       "    <tr>\n",
       "      <th>0</th>\n",
       "      <td>Simple Average Method</td>\n",
       "      <td>713185.53</td>\n",
       "      <td>68.25</td>\n",
       "    </tr>\n",
       "    <tr>\n",
       "      <th>0</th>\n",
       "      <td>Simple Average Moving Method_12 Months</td>\n",
       "      <td>357050.83</td>\n",
       "      <td>29.34</td>\n",
       "    </tr>\n",
       "    <tr>\n",
       "      <th>0</th>\n",
       "      <td>Simple Average Moving Method_06 Months</td>\n",
       "      <td>342858.81</td>\n",
       "      <td>27.67</td>\n",
       "    </tr>\n",
       "    <tr>\n",
       "      <th>0</th>\n",
       "      <td>Simple Average Moving Method_03 Months</td>\n",
       "      <td>332400.59</td>\n",
       "      <td>26.43</td>\n",
       "    </tr>\n",
       "  </tbody>\n",
       "</table>\n",
       "</div>"
      ],
      "text/plain": [
       "                                   Method       RMSE   MAPE\n",
       "0                            Naive Method  323990.23  25.42\n",
       "0                   Simple Average Method  713185.53  68.25\n",
       "0  Simple Average Moving Method_12 Months  357050.83  29.34\n",
       "0  Simple Average Moving Method_06 Months  342858.81  27.67\n",
       "0  Simple Average Moving Method_03 Months  332400.59  26.43"
      ]
     },
     "execution_count": 23,
     "metadata": {},
     "output_type": "execute_result"
    }
   ],
   "source": [
    "rmse = np.sqrt(mean_squared_error(test[\"Confirmed\"], y_hat_sma[\"sma_forecast\"][train_len:])).round(2)\n",
    "mape = np.round(np.mean(np.abs(test[\"Confirmed\"] - y_hat_sma[\"sma_forecast\"][train_len:])/test[\"Confirmed\"])*100,2)\n",
    "\n",
    "tempResults = pd.DataFrame({\"Method\":[\"Simple Average Moving Method_03 Months\"], \"RMSE\":[rmse], \"MAPE\": [mape]})\n",
    "results = pd.concat([results, tempResults])\n",
    "results"
   ]
  },
  {
   "cell_type": "markdown",
   "metadata": {},
   "source": [
    "## Method 4: Simple Exponential Smoothing"
   ]
  },
  {
   "cell_type": "code",
   "execution_count": 24,
   "metadata": {},
   "outputs": [
    {
     "name": "stderr",
     "output_type": "stream",
     "text": [
      "C:\\Users\\ADMIN\\Anaconda3\\Anac\\lib\\site-packages\\statsmodels\\tsa\\base\\tsa_model.py:159: ValueWarning: No frequency information was provided, so inferred frequency D will be used.\n",
      "  warnings.warn('No frequency information was'\n"
     ]
    }
   ],
   "source": [
    "from statsmodels.tsa.holtwinters import SimpleExpSmoothing\n",
    "model = SimpleExpSmoothing(train[\"Confirmed\"])\n",
    "model_fit = model.fit(optimized=True)\n",
    "model_fit.params\n",
    "y_hat_ses = test.copy()\n",
    "y_hat_ses[\"ses_forecast\"] = model_fit.forecast(50)"
   ]
  },
  {
   "cell_type": "markdown",
   "metadata": {},
   "source": [
    "### Plot Train, Test and Forecast Set"
   ]
  },
  {
   "cell_type": "code",
   "execution_count": 25,
   "metadata": {},
   "outputs": [
    {
     "data": {
      "image/png": "[encoded data removed]",
      "text/plain": [
       "<Figure size 1440x288 with 1 Axes>"
      ]
     },
     "metadata": {
      "needs_background": "light"
     },
     "output_type": "display_data"
    }
   ],
   "source": [
    "plt.figure(figsize=(20,4))\n",
    "plt.plot(train[\"Confirmed\"], label=\"Train\")\n",
    "plt.plot(test[\"Confirmed\"], label=\"Test\")\n",
    "plt.plot(y_hat_ses[\"ses_forecast\"], label=\"Simple Exponential Smoothing\")\n",
    "plt.legend(loc=\"best\")\n",
    "plt.title(\"Simple Exponential Smoothing Method\")\n",
    "plt.show()"
   ]
  },
  {
   "cell_type": "markdown",
   "metadata": {},
   "source": [
    "### Measuring RMSE and MAPE"
   ]
  },
  {
   "cell_type": "code",
   "execution_count": 26,
   "metadata": {},
   "outputs": [
    {
     "data": {
      "text/html": [
       "<div>\n",
       "<style scoped>\n",
       "    .dataframe tbody tr th:only-of-type {\n",
       "        vertical-align: middle;\n",
       "    }\n",
       "\n",
       "    .dataframe tbody tr th {\n",
       "        vertical-align: top;\n",
       "    }\n",
       "\n",
       "    .dataframe thead th {\n",
       "        text-align: right;\n",
       "    }\n",
       "</style>\n",
       "<table border=\"1\" class=\"dataframe\">\n",
       "  <thead>\n",
       "    <tr style=\"text-align: right;\">\n",
       "      <th></th>\n",
       "      <th>Method</th>\n",
       "      <th>RMSE</th>\n",
       "      <th>MAPE</th>\n",
       "    </tr>\n",
       "  </thead>\n",
       "  <tbody>\n",
       "    <tr>\n",
       "      <th>0</th>\n",
       "      <td>Naive Method</td>\n",
       "      <td>323990.23</td>\n",
       "      <td>25.42</td>\n",
       "    </tr>\n",
       "    <tr>\n",
       "      <th>0</th>\n",
       "      <td>Simple Average Method</td>\n",
       "      <td>713185.53</td>\n",
       "      <td>68.25</td>\n",
       "    </tr>\n",
       "    <tr>\n",
       "      <th>0</th>\n",
       "      <td>Simple Average Moving Method_12 Months</td>\n",
       "      <td>357050.83</td>\n",
       "      <td>29.34</td>\n",
       "    </tr>\n",
       "    <tr>\n",
       "      <th>0</th>\n",
       "      <td>Simple Average Moving Method_06 Months</td>\n",
       "      <td>342858.81</td>\n",
       "      <td>27.67</td>\n",
       "    </tr>\n",
       "    <tr>\n",
       "      <th>0</th>\n",
       "      <td>Simple Average Moving Method_03 Months</td>\n",
       "      <td>332400.59</td>\n",
       "      <td>26.43</td>\n",
       "    </tr>\n",
       "    <tr>\n",
       "      <th>0</th>\n",
       "      <td>Simple Exponential Smoothing</td>\n",
       "      <td>323990.23</td>\n",
       "      <td>25.42</td>\n",
       "    </tr>\n",
       "  </tbody>\n",
       "</table>\n",
       "</div>"
      ],
      "text/plain": [
       "                                   Method       RMSE   MAPE\n",
       "0                            Naive Method  323990.23  25.42\n",
       "0                   Simple Average Method  713185.53  68.25\n",
       "0  Simple Average Moving Method_12 Months  357050.83  29.34\n",
       "0  Simple Average Moving Method_06 Months  342858.81  27.67\n",
       "0  Simple Average Moving Method_03 Months  332400.59  26.43\n",
       "0            Simple Exponential Smoothing  323990.23  25.42"
      ]
     },
     "execution_count": 26,
     "metadata": {},
     "output_type": "execute_result"
    }
   ],
   "source": [
    "from sklearn.metrics import mean_squared_error\n",
    "rmse = np.sqrt(mean_squared_error(test[\"Confirmed\"], y_hat_ses[\"ses_forecast\"])).round(2)\n",
    "mape = np.round(np.mean(np.abs(test[\"Confirmed\"] - y_hat_ses[\"ses_forecast\"])/test[\"Confirmed\"])*100, 2)\n",
    "\n",
    "tempResults = pd.DataFrame({\"Method\":[\"Simple Exponential Smoothing\"], \"RMSE\":[rmse], \"MAPE\": [mape]})\n",
    "results = pd.concat([results, tempResults])\n",
    "results"
   ]
  },
  {
   "cell_type": "markdown",
   "metadata": {},
   "source": [
    "## Method 5: Holt's Exponential Smoothing"
   ]
  },
  {
   "cell_type": "code",
   "execution_count": 27,
   "metadata": {
    "scrolled": false
   },
   "outputs": [
    {
     "name": "stdout",
     "output_type": "stream",
     "text": [
      "{'smoothing_level': 0.7256636534864668, 'smoothing_slope': 0.4733091444081468, 'smoothing_seasonal': nan, 'damping_slope': nan, 'initial_level': 1.0, 'initial_slope': 0.01, 'initial_seasons': array([], dtype=float64), 'use_boxcox': False, 'lamda': None, 'remove_bias': False}\n"
     ]
    }
   ],
   "source": [
    "from statsmodels.tsa.holtwinters import ExponentialSmoothing\n",
    "model = ExponentialSmoothing(np.asarray(train[\"Confirmed\"]), seasonal_periods=12, trend=\"additive\", seasonal=None)\n",
    "model_fit = model.fit(optimized=True)\n",
    "print(model_fit.params)\n",
    "y_hat_holt = test.copy()\n",
    "y_hat_holt[\"holt_forecast\"] = model_fit.forecast(25)"
   ]
  },
  {
   "cell_type": "markdown",
   "metadata": {},
   "source": [
    "### Plot Train, Test and Forecast Set"
   ]
  },
  {
   "cell_type": "code",
   "execution_count": 28,
   "metadata": {
    "scrolled": true
   },
   "outputs": [
    {
     "data": {
      "image/png": "[encoded data removed]",
      "text/plain": [
       "<Figure size 1440x288 with 1 Axes>"
      ]
     },
     "metadata": {
      "needs_background": "light"
     },
     "output_type": "display_data"
    }
   ],
   "source": [
    "plt.figure(figsize=(20,4))\n",
    "plt.plot(train[\"Confirmed\"], label=\"Train\")\n",
    "plt.plot(test[\"Confirmed\"], label=\"Test\")\n",
    "plt.plot(y_hat_holt[\"holt_forecast\"], label=\"Holt's Exponential Smoothing\")\n",
    "plt.legend(loc=\"best\")\n",
    "plt.title(\"Holt's Exponential Smoothing Method\")\n",
    "plt.show()"
   ]
  },
  {
   "cell_type": "markdown",
   "metadata": {},
   "source": [
    "### Measuring RMSE and MAPE"
   ]
  },
  {
   "cell_type": "code",
   "execution_count": 29,
   "metadata": {},
   "outputs": [
    {
     "data": {
      "text/html": [
       "<div>\n",
       "<style scoped>\n",
       "    .dataframe tbody tr th:only-of-type {\n",
       "        vertical-align: middle;\n",
       "    }\n",
       "\n",
       "    .dataframe tbody tr th {\n",
       "        vertical-align: top;\n",
       "    }\n",
       "\n",
       "    .dataframe thead th {\n",
       "        text-align: right;\n",
       "    }\n",
       "</style>\n",
       "<table border=\"1\" class=\"dataframe\">\n",
       "  <thead>\n",
       "    <tr style=\"text-align: right;\">\n",
       "      <th></th>\n",
       "      <th>Method</th>\n",
       "      <th>RMSE</th>\n",
       "      <th>MAPE</th>\n",
       "    </tr>\n",
       "  </thead>\n",
       "  <tbody>\n",
       "    <tr>\n",
       "      <th>0</th>\n",
       "      <td>Naive Method</td>\n",
       "      <td>323990.23</td>\n",
       "      <td>25.42</td>\n",
       "    </tr>\n",
       "    <tr>\n",
       "      <th>0</th>\n",
       "      <td>Simple Average Method</td>\n",
       "      <td>713185.53</td>\n",
       "      <td>68.25</td>\n",
       "    </tr>\n",
       "    <tr>\n",
       "      <th>0</th>\n",
       "      <td>Simple Average Moving Method_12 Months</td>\n",
       "      <td>357050.83</td>\n",
       "      <td>29.34</td>\n",
       "    </tr>\n",
       "    <tr>\n",
       "      <th>0</th>\n",
       "      <td>Simple Average Moving Method_06 Months</td>\n",
       "      <td>342858.81</td>\n",
       "      <td>27.67</td>\n",
       "    </tr>\n",
       "    <tr>\n",
       "      <th>0</th>\n",
       "      <td>Simple Average Moving Method_03 Months</td>\n",
       "      <td>332400.59</td>\n",
       "      <td>26.43</td>\n",
       "    </tr>\n",
       "    <tr>\n",
       "      <th>0</th>\n",
       "      <td>Simple Exponential Smoothing</td>\n",
       "      <td>323990.23</td>\n",
       "      <td>25.42</td>\n",
       "    </tr>\n",
       "    <tr>\n",
       "      <th>0</th>\n",
       "      <td>Holt's Exponential Smoothing</td>\n",
       "      <td>192540.46</td>\n",
       "      <td>14.74</td>\n",
       "    </tr>\n",
       "  </tbody>\n",
       "</table>\n",
       "</div>"
      ],
      "text/plain": [
       "                                   Method       RMSE   MAPE\n",
       "0                            Naive Method  323990.23  25.42\n",
       "0                   Simple Average Method  713185.53  68.25\n",
       "0  Simple Average Moving Method_12 Months  357050.83  29.34\n",
       "0  Simple Average Moving Method_06 Months  342858.81  27.67\n",
       "0  Simple Average Moving Method_03 Months  332400.59  26.43\n",
       "0            Simple Exponential Smoothing  323990.23  25.42\n",
       "0            Holt's Exponential Smoothing  192540.46  14.74"
      ]
     },
     "execution_count": 29,
     "metadata": {},
     "output_type": "execute_result"
    }
   ],
   "source": [
    "from sklearn.metrics import mean_squared_error\n",
    "rmse = np.sqrt(mean_squared_error(test[\"Confirmed\"], y_hat_holt[\"holt_forecast\"])).round(2)\n",
    "mape = np.round(np.mean(np.abs(test[\"Confirmed\"] - y_hat_holt[\"holt_forecast\"])/test[\"Confirmed\"])*100, 2)\n",
    "\n",
    "tempResults = pd.DataFrame({\"Method\":[\"Holt's Exponential Smoothing\"], \"RMSE\":[rmse], \"MAPE\": [mape]})\n",
    "results = pd.concat([results, tempResults])\n",
    "results"
   ]
  },
  {
   "cell_type": "markdown",
   "metadata": {},
   "source": [
    "## Method 6: Holt's Winter Exponential Smoothing / Additive Seasonal Trend"
   ]
  },
  {
   "cell_type": "code",
   "execution_count": 30,
   "metadata": {},
   "outputs": [
    {
     "name": "stdout",
     "output_type": "stream",
     "text": [
      "{'smoothing_level': 0.7272997700231216, 'smoothing_slope': 0.4726841083686295, 'smoothing_seasonal': 0.0, 'damping_slope': nan, 'initial_level': 307875.2941179696, 'initial_slope': 0.5555554795123271, 'initial_seasons': array([-307918.9283452 , -307846.13154338, -307856.2288907 ]), 'use_boxcox': False, 'lamda': None, 'remove_bias': False}\n"
     ]
    }
   ],
   "source": [
    "y_hat_hwa = test.copy()\n",
    "model = ExponentialSmoothing(np.asarray(train[\"Confirmed\"]), seasonal_periods = 3, trend=\"add\", seasonal=\"add\")\n",
    "model_fit = model.fit(optimized=True)\n",
    "print(model_fit.params)\n",
    "y_hat_hwa[\"hwa_forecast\"] = model_fit.forecast(25)"
   ]
  },
  {
   "cell_type": "markdown",
   "metadata": {},
   "source": [
    "### Plot Train, Test and Forecast Set"
   ]
  },
  {
   "cell_type": "code",
   "execution_count": 31,
   "metadata": {},
   "outputs": [
    {
     "data": {
      "image/png": "[encoded data removed]",
      "text/plain": [
       "<Figure size 1440x288 with 1 Axes>"
      ]
     },
     "metadata": {
      "needs_background": "light"
     },
     "output_type": "display_data"
    }
   ],
   "source": [
    "plt.figure(figsize=(20,4))\n",
    "plt.plot(train[\"Confirmed\"], label=\"Train\")\n",
    "plt.plot(test[\"Confirmed\"], label=\"Test\")\n",
    "plt.plot(y_hat_hwa[\"hwa_forecast\"], label=\"Holt's Winter Exponential Smoothing/Additive\")\n",
    "plt.legend(loc=\"best\")\n",
    "plt.title(\"Holt's Winter Exponential Smoothing/Additive\")\n",
    "plt.show()"
   ]
  },
  {
   "cell_type": "markdown",
   "metadata": {},
   "source": [
    "### Measuring RMSE and MAPE"
   ]
  },
  {
   "cell_type": "code",
   "execution_count": 32,
   "metadata": {},
   "outputs": [
    {
     "data": {
      "text/html": [
       "<div>\n",
       "<style scoped>\n",
       "    .dataframe tbody tr th:only-of-type {\n",
       "        vertical-align: middle;\n",
       "    }\n",
       "\n",
       "    .dataframe tbody tr th {\n",
       "        vertical-align: top;\n",
       "    }\n",
       "\n",
       "    .dataframe thead th {\n",
       "        text-align: right;\n",
       "    }\n",
       "</style>\n",
       "<table border=\"1\" class=\"dataframe\">\n",
       "  <thead>\n",
       "    <tr style=\"text-align: right;\">\n",
       "      <th></th>\n",
       "      <th>Method</th>\n",
       "      <th>RMSE</th>\n",
       "      <th>MAPE</th>\n",
       "    </tr>\n",
       "  </thead>\n",
       "  <tbody>\n",
       "    <tr>\n",
       "      <th>0</th>\n",
       "      <td>Naive Method</td>\n",
       "      <td>323990.23</td>\n",
       "      <td>25.42</td>\n",
       "    </tr>\n",
       "    <tr>\n",
       "      <th>0</th>\n",
       "      <td>Simple Average Method</td>\n",
       "      <td>713185.53</td>\n",
       "      <td>68.25</td>\n",
       "    </tr>\n",
       "    <tr>\n",
       "      <th>0</th>\n",
       "      <td>Simple Average Moving Method_12 Months</td>\n",
       "      <td>357050.83</td>\n",
       "      <td>29.34</td>\n",
       "    </tr>\n",
       "    <tr>\n",
       "      <th>0</th>\n",
       "      <td>Simple Average Moving Method_06 Months</td>\n",
       "      <td>342858.81</td>\n",
       "      <td>27.67</td>\n",
       "    </tr>\n",
       "    <tr>\n",
       "      <th>0</th>\n",
       "      <td>Simple Average Moving Method_03 Months</td>\n",
       "      <td>332400.59</td>\n",
       "      <td>26.43</td>\n",
       "    </tr>\n",
       "    <tr>\n",
       "      <th>0</th>\n",
       "      <td>Simple Exponential Smoothing</td>\n",
       "      <td>323990.23</td>\n",
       "      <td>25.42</td>\n",
       "    </tr>\n",
       "    <tr>\n",
       "      <th>0</th>\n",
       "      <td>Holt's Exponential Smoothing</td>\n",
       "      <td>192540.46</td>\n",
       "      <td>14.74</td>\n",
       "    </tr>\n",
       "    <tr>\n",
       "      <th>0</th>\n",
       "      <td>Holt's Winter Exponential Smoothing/Additive</td>\n",
       "      <td>192689.89</td>\n",
       "      <td>14.75</td>\n",
       "    </tr>\n",
       "  </tbody>\n",
       "</table>\n",
       "</div>"
      ],
      "text/plain": [
       "                                         Method       RMSE   MAPE\n",
       "0                                  Naive Method  323990.23  25.42\n",
       "0                         Simple Average Method  713185.53  68.25\n",
       "0        Simple Average Moving Method_12 Months  357050.83  29.34\n",
       "0        Simple Average Moving Method_06 Months  342858.81  27.67\n",
       "0        Simple Average Moving Method_03 Months  332400.59  26.43\n",
       "0                  Simple Exponential Smoothing  323990.23  25.42\n",
       "0                  Holt's Exponential Smoothing  192540.46  14.74\n",
       "0  Holt's Winter Exponential Smoothing/Additive  192689.89  14.75"
      ]
     },
     "execution_count": 32,
     "metadata": {},
     "output_type": "execute_result"
    }
   ],
   "source": [
    "from sklearn.metrics import mean_squared_error\n",
    "rmse = np.sqrt(mean_squared_error(test[\"Confirmed\"], y_hat_hwa[\"hwa_forecast\"])).round(2)\n",
    "mape = np.round(np.mean(np.abs(test[\"Confirmed\"] - y_hat_hwa[\"hwa_forecast\"])/test[\"Confirmed\"])*100, 2)\n",
    "\n",
    "tempResults = pd.DataFrame({\"Method\":[\"Holt's Winter Exponential Smoothing/Additive\"], \"RMSE\":[rmse], \"MAPE\": [mape]})\n",
    "results = pd.concat([results, tempResults])\n",
    "results"
   ]
  },
  {
   "cell_type": "markdown",
   "metadata": {},
   "source": [
    "## Method 7: Holt's Winter Exponential Smoothing / Multiplicative Seasonal Trend"
   ]
  },
  {
   "cell_type": "code",
   "execution_count": 33,
   "metadata": {},
   "outputs": [
    {
     "name": "stdout",
     "output_type": "stream",
     "text": [
      "{'smoothing_level': 0.7368421052631579, 'smoothing_slope': 0.47368421052631576, 'smoothing_seasonal': 0.0001, 'damping_slope': nan, 'initial_level': 307875.29411764705, 'initial_slope': 0.5555555555555555, 'initial_seasons': array([3.24165523e-06, 3.24341197e-06, 3.24454138e-06]), 'use_boxcox': False, 'lamda': None, 'remove_bias': False}\n"
     ]
    },
    {
     "name": "stderr",
     "output_type": "stream",
     "text": [
      "C:\\Users\\ADMIN\\Anaconda3\\Anac\\lib\\site-packages\\statsmodels\\tsa\\holtwinters.py:743: ConvergenceWarning: Optimization failed to converge. Check mle_retvals.\n",
      "  warn(\"Optimization failed to converge. Check mle_retvals.\",\n"
     ]
    }
   ],
   "source": [
    "y_hat_hwa = test.copy()\n",
    "model = ExponentialSmoothing(np.asarray(train[\"Confirmed\"]), seasonal_periods = 3, trend=\"add\", seasonal=\"mul\")\n",
    "model_fit = model.fit(optimized=True)\n",
    "print(model_fit.params)\n",
    "y_hat_hwa[\"hwa_forecast\"] = model_fit.forecast(25)"
   ]
  },
  {
   "cell_type": "markdown",
   "metadata": {},
   "source": [
    "### Plot Train, Test and Forecast Set"
   ]
  },
  {
   "cell_type": "code",
   "execution_count": 34,
   "metadata": {
    "scrolled": true
   },
   "outputs": [
    {
     "data": {
      "image/png": "[encoded data removed]",
      "text/plain": [
       "<Figure size 1440x288 with 1 Axes>"
      ]
     },
     "metadata": {
      "needs_background": "light"
     },
     "output_type": "display_data"
    }
   ],
   "source": [
    "plt.figure(figsize=(20,4))\n",
    "plt.plot(train[\"Confirmed\"], label=\"Train\")\n",
    "plt.plot(test[\"Confirmed\"], label=\"Test\")\n",
    "plt.plot(y_hat_hwa[\"hwa_forecast\"], label=\"Holt's Winter Exponential Smoothing/Multiplicative\")\n",
    "plt.legend(loc=\"best\")\n",
    "plt.title(\"Holt's Winter Exponential Smoothing/Multiplicative\")\n",
    "plt.show()"
   ]
  },
  {
   "cell_type": "markdown",
   "metadata": {},
   "source": [
    "### Measuring RMSE and MAPE"
   ]
  },
  {
   "cell_type": "code",
   "execution_count": 35,
   "metadata": {},
   "outputs": [
    {
     "data": {
      "text/html": [
       "<div>\n",
       "<style scoped>\n",
       "    .dataframe tbody tr th:only-of-type {\n",
       "        vertical-align: middle;\n",
       "    }\n",
       "\n",
       "    .dataframe tbody tr th {\n",
       "        vertical-align: top;\n",
       "    }\n",
       "\n",
       "    .dataframe thead th {\n",
       "        text-align: right;\n",
       "    }\n",
       "</style>\n",
       "<table border=\"1\" class=\"dataframe\">\n",
       "  <thead>\n",
       "    <tr style=\"text-align: right;\">\n",
       "      <th></th>\n",
       "      <th>Method</th>\n",
       "      <th>RMSE</th>\n",
       "      <th>MAPE</th>\n",
       "    </tr>\n",
       "  </thead>\n",
       "  <tbody>\n",
       "    <tr>\n",
       "      <th>0</th>\n",
       "      <td>Naive Method</td>\n",
       "      <td>323990.23</td>\n",
       "      <td>25.42</td>\n",
       "    </tr>\n",
       "    <tr>\n",
       "      <th>0</th>\n",
       "      <td>Simple Average Method</td>\n",
       "      <td>713185.53</td>\n",
       "      <td>68.25</td>\n",
       "    </tr>\n",
       "    <tr>\n",
       "      <th>0</th>\n",
       "      <td>Simple Average Moving Method_12 Months</td>\n",
       "      <td>357050.83</td>\n",
       "      <td>29.34</td>\n",
       "    </tr>\n",
       "    <tr>\n",
       "      <th>0</th>\n",
       "      <td>Simple Average Moving Method_06 Months</td>\n",
       "      <td>342858.81</td>\n",
       "      <td>27.67</td>\n",
       "    </tr>\n",
       "    <tr>\n",
       "      <th>0</th>\n",
       "      <td>Simple Average Moving Method_03 Months</td>\n",
       "      <td>332400.59</td>\n",
       "      <td>26.43</td>\n",
       "    </tr>\n",
       "    <tr>\n",
       "      <th>0</th>\n",
       "      <td>Simple Exponential Smoothing</td>\n",
       "      <td>323990.23</td>\n",
       "      <td>25.42</td>\n",
       "    </tr>\n",
       "    <tr>\n",
       "      <th>0</th>\n",
       "      <td>Holt's Exponential Smoothing</td>\n",
       "      <td>192540.46</td>\n",
       "      <td>14.74</td>\n",
       "    </tr>\n",
       "    <tr>\n",
       "      <th>0</th>\n",
       "      <td>Holt's Winter Exponential Smoothing/Additive</td>\n",
       "      <td>192689.89</td>\n",
       "      <td>14.75</td>\n",
       "    </tr>\n",
       "    <tr>\n",
       "      <th>0</th>\n",
       "      <td>Holt's Winter Exponential Smoothing/Multiplica...</td>\n",
       "      <td>192711.66</td>\n",
       "      <td>14.75</td>\n",
       "    </tr>\n",
       "  </tbody>\n",
       "</table>\n",
       "</div>"
      ],
      "text/plain": [
       "                                              Method       RMSE   MAPE\n",
       "0                                       Naive Method  323990.23  25.42\n",
       "0                              Simple Average Method  713185.53  68.25\n",
       "0             Simple Average Moving Method_12 Months  357050.83  29.34\n",
       "0             Simple Average Moving Method_06 Months  342858.81  27.67\n",
       "0             Simple Average Moving Method_03 Months  332400.59  26.43\n",
       "0                       Simple Exponential Smoothing  323990.23  25.42\n",
       "0                       Holt's Exponential Smoothing  192540.46  14.74\n",
       "0       Holt's Winter Exponential Smoothing/Additive  192689.89  14.75\n",
       "0  Holt's Winter Exponential Smoothing/Multiplica...  192711.66  14.75"
      ]
     },
     "execution_count": 35,
     "metadata": {},
     "output_type": "execute_result"
    }
   ],
   "source": [
    "from sklearn.metrics import mean_squared_error\n",
    "rmse = np.sqrt(mean_squared_error(test[\"Confirmed\"], y_hat_hwa[\"hwa_forecast\"])).round(2)\n",
    "mape = np.round(np.mean(np.abs(test[\"Confirmed\"] - y_hat_hwa[\"hwa_forecast\"])/test[\"Confirmed\"])*100, 2)\n",
    "\n",
    "tempResults = pd.DataFrame({\"Method\":[\"Holt's Winter Exponential Smoothing/Multiplicative\"], \"RMSE\":[rmse], \"MAPE\": [mape]})\n",
    "results = pd.concat([results, tempResults])\n",
    "results"
   ]
  },
  {
   "cell_type": "markdown",
   "metadata": {},
   "source": [
    "## Conclusion:\n",
    "\n",
    " The Holt's Exponential Smoothing Method is the most efficient Forecast Method while the Simple Average Method is the worst"
   ]
  },
  {
   "cell_type": "code",
   "execution_count": null,
   "metadata": {},
   "outputs": [],
   "source": []
  },
  {
   "cell_type": "code",
   "execution_count": null,
   "metadata": {},
   "outputs": [],
   "source": []
  }
 ],
 "metadata": {
  "kernelspec": {
   "display_name": "Python 3",
   "language": "python",
   "name": "python3"
  },
  "language_info": {
   "codemirror_mode": {
    "name": "ipython",
    "version": 3
   },
   "file_extension": ".py",
   "mimetype": "text/x-python",
   "name": "python",
   "nbconvert_exporter": "python",
   "pygments_lexer": "ipython3",
   "version": "3.8.3"
  }
 },
 "nbformat": 4,
 "nbformat_minor": 4
}
